{
 "cells": [
  {
   "cell_type": "markdown",
   "id": "68211ecb-c2a4-4522-8e54-d7ac80e5c3cb",
   "metadata": {},
   "source": [
    "# Example of Data Preprocessing with already completed data\n",
    "Use already completed data for the table join process."
   ]
  },
  {
   "cell_type": "code",
   "execution_count": 10,
   "id": "915b365b-e7a2-4bc4-b5cd-850576b76329",
   "metadata": {},
   "outputs": [],
   "source": [
    "import polars as pl\n",
    "import numpy as np\n",
    "from sklearn.datasets import fetch_openml\n",
    "\n",
    "from pytred import DataHub\n",
    "from pytred import DataNode\n",
    "from pytred.annotations import polars_table"
   ]
  },
  {
   "cell_type": "markdown",
   "id": "13099fa7-15a3-4e62-b911-4235b9746901",
   "metadata": {},
   "source": [
    "## Make Dataset\n",
    "This example uses the titanic dataset.  \n",
    "A column named \"record_id\" is added as a Key to join data."
   ]
  },
  {
   "cell_type": "code",
   "execution_count": 11,
   "id": "587db6c5-df11-4dc2-8db3-b2a427241aa3",
   "metadata": {},
   "outputs": [
    {
     "data": {
      "text/html": [
       "<div><style>\n",
       ".dataframe > thead > tr,\n",
       ".dataframe > tbody > tr {\n",
       "  text-align: right;\n",
       "  white-space: pre-wrap;\n",
       "}\n",
       "</style>\n",
       "<small>shape: (1_309, 15)</small><table border=\"1\" class=\"dataframe\"><thead><tr><th>pclass</th><th>name</th><th>sex</th><th>age</th><th>sibsp</th><th>parch</th><th>ticket</th><th>fare</th><th>cabin</th><th>embarked</th><th>boat</th><th>body</th><th>home.dest</th><th>survived</th><th>record_id</th></tr><tr><td>i64</td><td>str</td><td>cat</td><td>f64</td><td>i64</td><td>i64</td><td>str</td><td>f64</td><td>str</td><td>cat</td><td>str</td><td>f64</td><td>str</td><td>i64</td><td>i64</td></tr></thead><tbody><tr><td>1</td><td>&quot;Allen, Miss. E…</td><td>&quot;female&quot;</td><td>29.0</td><td>0</td><td>0</td><td>&quot;24160&quot;</td><td>211.3375</td><td>&quot;B5&quot;</td><td>&quot;S&quot;</td><td>&quot;2&quot;</td><td>null</td><td>&quot;St Louis, MO&quot;</td><td>1</td><td>0</td></tr><tr><td>1</td><td>&quot;Allison, Maste…</td><td>&quot;male&quot;</td><td>0.9167</td><td>1</td><td>2</td><td>&quot;113781&quot;</td><td>151.55</td><td>&quot;C22 C26&quot;</td><td>&quot;S&quot;</td><td>&quot;11&quot;</td><td>null</td><td>&quot;Montreal, PQ /…</td><td>1</td><td>1</td></tr><tr><td>1</td><td>&quot;Allison, Miss.…</td><td>&quot;female&quot;</td><td>2.0</td><td>1</td><td>2</td><td>&quot;113781&quot;</td><td>151.55</td><td>&quot;C22 C26&quot;</td><td>&quot;S&quot;</td><td>null</td><td>null</td><td>&quot;Montreal, PQ /…</td><td>0</td><td>2</td></tr><tr><td>1</td><td>&quot;Allison, Mr. H…</td><td>&quot;male&quot;</td><td>30.0</td><td>1</td><td>2</td><td>&quot;113781&quot;</td><td>151.55</td><td>&quot;C22 C26&quot;</td><td>&quot;S&quot;</td><td>null</td><td>135.0</td><td>&quot;Montreal, PQ /…</td><td>0</td><td>3</td></tr><tr><td>1</td><td>&quot;Allison, Mrs. …</td><td>&quot;female&quot;</td><td>25.0</td><td>1</td><td>2</td><td>&quot;113781&quot;</td><td>151.55</td><td>&quot;C22 C26&quot;</td><td>&quot;S&quot;</td><td>null</td><td>null</td><td>&quot;Montreal, PQ /…</td><td>0</td><td>4</td></tr><tr><td>&hellip;</td><td>&hellip;</td><td>&hellip;</td><td>&hellip;</td><td>&hellip;</td><td>&hellip;</td><td>&hellip;</td><td>&hellip;</td><td>&hellip;</td><td>&hellip;</td><td>&hellip;</td><td>&hellip;</td><td>&hellip;</td><td>&hellip;</td><td>&hellip;</td></tr><tr><td>3</td><td>&quot;Zabour, Miss. …</td><td>&quot;female&quot;</td><td>14.5</td><td>1</td><td>0</td><td>&quot;2665&quot;</td><td>14.4542</td><td>null</td><td>&quot;C&quot;</td><td>null</td><td>328.0</td><td>null</td><td>0</td><td>1304</td></tr><tr><td>3</td><td>&quot;Zabour, Miss. …</td><td>&quot;female&quot;</td><td>null</td><td>1</td><td>0</td><td>&quot;2665&quot;</td><td>14.4542</td><td>null</td><td>&quot;C&quot;</td><td>null</td><td>null</td><td>null</td><td>0</td><td>1305</td></tr><tr><td>3</td><td>&quot;Zakarian, Mr. …</td><td>&quot;male&quot;</td><td>26.5</td><td>0</td><td>0</td><td>&quot;2656&quot;</td><td>7.225</td><td>null</td><td>&quot;C&quot;</td><td>null</td><td>304.0</td><td>null</td><td>0</td><td>1306</td></tr><tr><td>3</td><td>&quot;Zakarian, Mr. …</td><td>&quot;male&quot;</td><td>27.0</td><td>0</td><td>0</td><td>&quot;2670&quot;</td><td>7.225</td><td>null</td><td>&quot;C&quot;</td><td>null</td><td>null</td><td>null</td><td>0</td><td>1307</td></tr><tr><td>3</td><td>&quot;Zimmerman, Mr.…</td><td>&quot;male&quot;</td><td>29.0</td><td>0</td><td>0</td><td>&quot;315082&quot;</td><td>7.875</td><td>null</td><td>&quot;S&quot;</td><td>null</td><td>null</td><td>null</td><td>0</td><td>1308</td></tr></tbody></table></div>"
      ],
      "text/plain": [
       "shape: (1_309, 15)\n",
       "┌────────┬──────────────────┬────────┬────────┬───┬───────┬─────────────────┬──────────┬───────────┐\n",
       "│ pclass ┆ name             ┆ sex    ┆ age    ┆ … ┆ body  ┆ home.dest       ┆ survived ┆ record_id │\n",
       "│ ---    ┆ ---              ┆ ---    ┆ ---    ┆   ┆ ---   ┆ ---             ┆ ---      ┆ ---       │\n",
       "│ i64    ┆ str              ┆ cat    ┆ f64    ┆   ┆ f64   ┆ str             ┆ i64      ┆ i64       │\n",
       "╞════════╪══════════════════╪════════╪════════╪═══╪═══════╪═════════════════╪══════════╪═══════════╡\n",
       "│ 1      ┆ Allen, Miss.     ┆ female ┆ 29.0   ┆ … ┆ null  ┆ St Louis, MO    ┆ 1        ┆ 0         │\n",
       "│        ┆ Elisabeth Walton ┆        ┆        ┆   ┆       ┆                 ┆          ┆           │\n",
       "│ 1      ┆ Allison, Master. ┆ male   ┆ 0.9167 ┆ … ┆ null  ┆ Montreal, PQ /  ┆ 1        ┆ 1         │\n",
       "│        ┆ Hudson Trevor    ┆        ┆        ┆   ┆       ┆ Chesterville,   ┆          ┆           │\n",
       "│        ┆                  ┆        ┆        ┆   ┆       ┆ ON              ┆          ┆           │\n",
       "│ 1      ┆ Allison, Miss.   ┆ female ┆ 2.0    ┆ … ┆ null  ┆ Montreal, PQ /  ┆ 0        ┆ 2         │\n",
       "│        ┆ Helen Loraine    ┆        ┆        ┆   ┆       ┆ Chesterville,   ┆          ┆           │\n",
       "│        ┆                  ┆        ┆        ┆   ┆       ┆ ON              ┆          ┆           │\n",
       "│ 1      ┆ Allison, Mr.     ┆ male   ┆ 30.0   ┆ … ┆ 135.0 ┆ Montreal, PQ /  ┆ 0        ┆ 3         │\n",
       "│        ┆ Hudson Joshua    ┆        ┆        ┆   ┆       ┆ Chesterville,   ┆          ┆           │\n",
       "│        ┆ Creig…           ┆        ┆        ┆   ┆       ┆ ON              ┆          ┆           │\n",
       "│ 1      ┆ Allison, Mrs.    ┆ female ┆ 25.0   ┆ … ┆ null  ┆ Montreal, PQ /  ┆ 0        ┆ 4         │\n",
       "│        ┆ Hudson J C       ┆        ┆        ┆   ┆       ┆ Chesterville,   ┆          ┆           │\n",
       "│        ┆ (Bessie…         ┆        ┆        ┆   ┆       ┆ ON              ┆          ┆           │\n",
       "│ …      ┆ …                ┆ …      ┆ …      ┆ … ┆ …     ┆ …               ┆ …        ┆ …         │\n",
       "│ 3      ┆ Zabour, Miss.    ┆ female ┆ 14.5   ┆ … ┆ 328.0 ┆ null            ┆ 0        ┆ 1304      │\n",
       "│        ┆ Hileni           ┆        ┆        ┆   ┆       ┆                 ┆          ┆           │\n",
       "│ 3      ┆ Zabour, Miss.    ┆ female ┆ null   ┆ … ┆ null  ┆ null            ┆ 0        ┆ 1305      │\n",
       "│        ┆ Thamine          ┆        ┆        ┆   ┆       ┆                 ┆          ┆           │\n",
       "│ 3      ┆ Zakarian, Mr.    ┆ male   ┆ 26.5   ┆ … ┆ 304.0 ┆ null            ┆ 0        ┆ 1306      │\n",
       "│        ┆ Mapriededer      ┆        ┆        ┆   ┆       ┆                 ┆          ┆           │\n",
       "│ 3      ┆ Zakarian, Mr.    ┆ male   ┆ 27.0   ┆ … ┆ null  ┆ null            ┆ 0        ┆ 1307      │\n",
       "│        ┆ Ortin            ┆        ┆        ┆   ┆       ┆                 ┆          ┆           │\n",
       "│ 3      ┆ Zimmerman, Mr.   ┆ male   ┆ 29.0   ┆ … ┆ null  ┆ null            ┆ 0        ┆ 1308      │\n",
       "│        ┆ Leo              ┆        ┆        ┆   ┆       ┆                 ┆          ┆           │\n",
       "└────────┴──────────────────┴────────┴────────┴───┴───────┴─────────────────┴──────────┴───────────┘"
      ]
     },
     "metadata": {},
     "output_type": "display_data"
    }
   ],
   "source": [
    "X, y = fetch_openml(\"titanic\", version=1, as_frame=True, return_X_y=True)\n",
    "df_titanic = pl.from_pandas(X).with_columns(\n",
    "    survived=y.values.astype(int),\n",
    "    record_id=np.arange(len(X)),\n",
    ")\n",
    "display(df_titanic)"
   ]
  },
  {
   "cell_type": "markdown",
   "id": "ab3fc064-1210-4e35-a539-dd226f9e69b1",
   "metadata": {},
   "source": [
    "## Preprocessing list\n",
    "\n",
    "Implement a DataHub class that performs these preprocessing tasks\n",
    "1. replace \"male\" with 1 and \"female\" with 0\n",
    "2. fill in missing values of age with the mean\n",
    "3. sum of sibsp and parch\n",
    "4. onehot encoding of embarked\n",
    "\n",
    "In this example, we have a table that has already been preprocessed, and we will demonstrate a case where only joining is performed. In this case, the DataNode class is utilized.\n",
    "\n",
    "### Preparing the Preprocessed Table"
   ]
  },
  {
   "cell_type": "code",
   "execution_count": 15,
   "id": "41d404aa-69ff-4d60-a571-54ace7d41e3e",
   "metadata": {},
   "outputs": [],
   "source": [
    "# replace \"male\" with 1 and \"female\" with 0\n",
    "replaced_sex = df_titanic.select(\n",
    "    \"record_id\",\n",
    "    \"sex\",\n",
    "    sex_replaced=pl.when(pl.col(\"sex\") == \"male\").then(1).otherwise(0),\n",
    ")\n",
    "\n",
    "# fill in missing values of age with the mean\n",
    "age_mean = df_titanic.select(\"age\").mean().to_numpy()[0][0]\n",
    "\n",
    "filled_age = df_titanic.select(\n",
    "    \"record_id\",\n",
    "    \"age\",\n",
    "    filled_age=pl.col(\"age\").fill_null(age_mean),\n",
    ")\n",
    "\n",
    "# sum of sibsp and parch\n",
    "cnt_family = df_titanic.select(\n",
    "    \"record_id\",\n",
    "    \"sibsp\",\n",
    "    \"parch\",\n",
    "    cnt_family=pl.col(\"sibsp\") + pl.col(\"parch\"),\n",
    ")\n",
    "\n",
    "# onehot encoding of embarked\n",
    "onehot_embarked = df_titanic.select(\n",
    "    \"record_id\",\n",
    "    \"embarked\",\n",
    "    embarked_C=pl.when(pl.col(\"embarked\") == \"C\").then(1).otherwise(0),\n",
    "    embarked_Q=pl.when(pl.col(\"embarked\") == \"Q\").then(1).otherwise(0),\n",
    "    embarked_S=pl.when(pl.col(\"embarked\") == \"S\").then(1).otherwise(0),\n",
    ")"
   ]
  },
  {
   "cell_type": "markdown",
   "id": "b4dce13e-9287-4d1b-81c4-3166b958fbda",
   "metadata": {},
   "source": [
    "## Associating table joining information with each table\n",
    "\n",
    "The DataNode class can manage data, its management name within DataHub, and the methods for joining.\n"
   ]
  },
  {
   "cell_type": "code",
   "execution_count": 19,
   "id": "39f41b30-02bd-465b-945d-3e3651c3c7de",
   "metadata": {},
   "outputs": [],
   "source": [
    "dn_replaced_sex = DataNode(\n",
    "    table=replaced_sex,\n",
    "    keys=[\"record_id\"],\n",
    "    join=\"left\",\n",
    "    name=\"replaced_sex\",\n",
    ")\n",
    "\n",
    "dn_filled_age = DataNode(\n",
    "    table=filled_age,\n",
    "    keys=[\"record_id\"],\n",
    "    join=\"left\",\n",
    "    name=\"filled_age\",\n",
    ")\n",
    "\n",
    "dn_cnt_family = DataNode(\n",
    "    table=cnt_family,\n",
    "    keys=[\"record_id\"],\n",
    "    join=\"left\",\n",
    "    name=\"cnt_family\",\n",
    ")\n",
    "\n",
    "dn_onehot_embarked = DataNode(\n",
    "    table=onehot_embarked,\n",
    "    keys=[\"record_id\"],\n",
    "    join=\"left\",\n",
    "    name=\"onehot_embarked\",\n",
    ")"
   ]
  },
  {
   "cell_type": "markdown",
   "id": "b86e50d4-5a3e-4e46-abe5-a4e2710fc972",
   "metadata": {},
   "source": [
    "## Preprocessing Data"
   ]
  },
  {
   "cell_type": "code",
   "execution_count": 22,
   "id": "cf287a45-3a51-4d59-916d-711553cb3794",
   "metadata": {},
   "outputs": [
    {
     "data": {
      "text/html": [
       "<div><style>\n",
       ".dataframe > thead > tr,\n",
       ".dataframe > tbody > tr {\n",
       "  text-align: right;\n",
       "  white-space: pre-wrap;\n",
       "}\n",
       "</style>\n",
       "<small>shape: (1_309, 12)</small><table border=\"1\" class=\"dataframe\"><thead><tr><th>record_id</th><th>sex</th><th>sex_replaced</th><th>age</th><th>filled_age</th><th>sibsp</th><th>parch</th><th>cnt_family</th><th>embarked</th><th>embarked_C</th><th>embarked_Q</th><th>embarked_S</th></tr><tr><td>i64</td><td>cat</td><td>i32</td><td>f64</td><td>f64</td><td>i64</td><td>i64</td><td>i64</td><td>cat</td><td>i32</td><td>i32</td><td>i32</td></tr></thead><tbody><tr><td>0</td><td>&quot;female&quot;</td><td>0</td><td>29.0</td><td>29.0</td><td>0</td><td>0</td><td>0</td><td>&quot;S&quot;</td><td>0</td><td>0</td><td>1</td></tr><tr><td>1</td><td>&quot;male&quot;</td><td>1</td><td>0.9167</td><td>0.9167</td><td>1</td><td>2</td><td>3</td><td>&quot;S&quot;</td><td>0</td><td>0</td><td>1</td></tr><tr><td>2</td><td>&quot;female&quot;</td><td>0</td><td>2.0</td><td>2.0</td><td>1</td><td>2</td><td>3</td><td>&quot;S&quot;</td><td>0</td><td>0</td><td>1</td></tr><tr><td>3</td><td>&quot;male&quot;</td><td>1</td><td>30.0</td><td>30.0</td><td>1</td><td>2</td><td>3</td><td>&quot;S&quot;</td><td>0</td><td>0</td><td>1</td></tr><tr><td>4</td><td>&quot;female&quot;</td><td>0</td><td>25.0</td><td>25.0</td><td>1</td><td>2</td><td>3</td><td>&quot;S&quot;</td><td>0</td><td>0</td><td>1</td></tr><tr><td>&hellip;</td><td>&hellip;</td><td>&hellip;</td><td>&hellip;</td><td>&hellip;</td><td>&hellip;</td><td>&hellip;</td><td>&hellip;</td><td>&hellip;</td><td>&hellip;</td><td>&hellip;</td><td>&hellip;</td></tr><tr><td>1304</td><td>&quot;female&quot;</td><td>0</td><td>14.5</td><td>14.5</td><td>1</td><td>0</td><td>1</td><td>&quot;C&quot;</td><td>1</td><td>0</td><td>0</td></tr><tr><td>1305</td><td>&quot;female&quot;</td><td>0</td><td>null</td><td>29.881135</td><td>1</td><td>0</td><td>1</td><td>&quot;C&quot;</td><td>1</td><td>0</td><td>0</td></tr><tr><td>1306</td><td>&quot;male&quot;</td><td>1</td><td>26.5</td><td>26.5</td><td>0</td><td>0</td><td>0</td><td>&quot;C&quot;</td><td>1</td><td>0</td><td>0</td></tr><tr><td>1307</td><td>&quot;male&quot;</td><td>1</td><td>27.0</td><td>27.0</td><td>0</td><td>0</td><td>0</td><td>&quot;C&quot;</td><td>1</td><td>0</td><td>0</td></tr><tr><td>1308</td><td>&quot;male&quot;</td><td>1</td><td>29.0</td><td>29.0</td><td>0</td><td>0</td><td>0</td><td>&quot;S&quot;</td><td>0</td><td>0</td><td>1</td></tr></tbody></table></div>"
      ],
      "text/plain": [
       "shape: (1_309, 12)\n",
       "┌───────────┬────────┬──────────────┬────────┬───┬──────────┬────────────┬────────────┬────────────┐\n",
       "│ record_id ┆ sex    ┆ sex_replaced ┆ age    ┆ … ┆ embarked ┆ embarked_C ┆ embarked_Q ┆ embarked_S │\n",
       "│ ---       ┆ ---    ┆ ---          ┆ ---    ┆   ┆ ---      ┆ ---        ┆ ---        ┆ ---        │\n",
       "│ i64       ┆ cat    ┆ i32          ┆ f64    ┆   ┆ cat      ┆ i32        ┆ i32        ┆ i32        │\n",
       "╞═══════════╪════════╪══════════════╪════════╪═══╪══════════╪════════════╪════════════╪════════════╡\n",
       "│ 0         ┆ female ┆ 0            ┆ 29.0   ┆ … ┆ S        ┆ 0          ┆ 0          ┆ 1          │\n",
       "│ 1         ┆ male   ┆ 1            ┆ 0.9167 ┆ … ┆ S        ┆ 0          ┆ 0          ┆ 1          │\n",
       "│ 2         ┆ female ┆ 0            ┆ 2.0    ┆ … ┆ S        ┆ 0          ┆ 0          ┆ 1          │\n",
       "│ 3         ┆ male   ┆ 1            ┆ 30.0   ┆ … ┆ S        ┆ 0          ┆ 0          ┆ 1          │\n",
       "│ 4         ┆ female ┆ 0            ┆ 25.0   ┆ … ┆ S        ┆ 0          ┆ 0          ┆ 1          │\n",
       "│ …         ┆ …      ┆ …            ┆ …      ┆ … ┆ …        ┆ …          ┆ …          ┆ …          │\n",
       "│ 1304      ┆ female ┆ 0            ┆ 14.5   ┆ … ┆ C        ┆ 1          ┆ 0          ┆ 0          │\n",
       "│ 1305      ┆ female ┆ 0            ┆ null   ┆ … ┆ C        ┆ 1          ┆ 0          ┆ 0          │\n",
       "│ 1306      ┆ male   ┆ 1            ┆ 26.5   ┆ … ┆ C        ┆ 1          ┆ 0          ┆ 0          │\n",
       "│ 1307      ┆ male   ┆ 1            ┆ 27.0   ┆ … ┆ C        ┆ 1          ┆ 0          ┆ 0          │\n",
       "│ 1308      ┆ male   ┆ 1            ┆ 29.0   ┆ … ┆ S        ┆ 0          ┆ 0          ┆ 1          │\n",
       "└───────────┴────────┴──────────────┴────────┴───┴──────────┴────────────┴────────────┴────────────┘"
      ]
     },
     "metadata": {},
     "output_type": "display_data"
    }
   ],
   "source": [
    "data_hub = DataHub(\n",
    "    df_titanic.select(\"record_id\"),\n",
    "    dn_replaced_sex,\n",
    "    dn_filled_age,\n",
    "    dn_cnt_family,\n",
    "    dn_onehot_embarked,\n",
    ")\n",
    "\n",
    "output = data_hub()\n",
    "\n",
    "display(output)"
   ]
  },
  {
   "cell_type": "code",
   "execution_count": null,
   "id": "5f3916be-3934-415e-a08b-df9d905c55a7",
   "metadata": {},
   "outputs": [],
   "source": []
  }
 ],
 "metadata": {
  "kernelspec": {
   "display_name": "pytred",
   "language": "python",
   "name": "pytred"
  },
  "language_info": {
   "codemirror_mode": {
    "name": "ipython",
    "version": 3
   },
   "file_extension": ".py",
   "mimetype": "text/x-python",
   "name": "python",
   "nbconvert_exporter": "python",
   "pygments_lexer": "ipython3",
   "version": "3.9.18"
  }
 },
 "nbformat": 4,
 "nbformat_minor": 5
}
