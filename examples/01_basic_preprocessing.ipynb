{
 "cells": [
  {
   "cell_type": "markdown",
   "id": "68211ecb-c2a4-4522-8e54-d7ac80e5c3cb",
   "metadata": {},
   "source": [
    "# Example of Data Preprocessing"
   ]
  },
  {
   "cell_type": "code",
   "execution_count": 1,
   "id": "915b365b-e7a2-4bc4-b5cd-850576b76329",
   "metadata": {},
   "outputs": [],
   "source": [
    "import numpy as np\n",
    "import polars as pl\n",
    "from sklearn.datasets import fetch_openml\n",
    "\n",
    "from pytred import DataHub\n",
    "from pytred.decorators import polars_table"
   ]
  },
  {
   "cell_type": "markdown",
   "id": "13099fa7-15a3-4e62-b911-4235b9746901",
   "metadata": {},
   "source": [
    "## Make Dataset\n",
    "This example uses the titanic dataset.  \n",
    "A column named \"record_id\" is added as a Key to join data."
   ]
  },
  {
   "cell_type": "code",
   "execution_count": 2,
   "id": "587db6c5-df11-4dc2-8db3-b2a427241aa3",
   "metadata": {},
   "outputs": [
    {
     "data": {
      "text/html": [
       "<div><style>\n",
       ".dataframe > thead > tr,\n",
       ".dataframe > tbody > tr {\n",
       "  text-align: right;\n",
       "  white-space: pre-wrap;\n",
       "}\n",
       "</style>\n",
       "<small>shape: (1_309, 15)</small><table border=\"1\" class=\"dataframe\"><thead><tr><th>pclass</th><th>name</th><th>sex</th><th>age</th><th>sibsp</th><th>parch</th><th>ticket</th><th>fare</th><th>cabin</th><th>embarked</th><th>boat</th><th>body</th><th>home.dest</th><th>survived</th><th>record_id</th></tr><tr><td>i64</td><td>str</td><td>cat</td><td>f64</td><td>i64</td><td>i64</td><td>str</td><td>f64</td><td>str</td><td>cat</td><td>str</td><td>f64</td><td>str</td><td>i64</td><td>i64</td></tr></thead><tbody><tr><td>1</td><td>&quot;Allen, Miss. E…</td><td>&quot;female&quot;</td><td>29.0</td><td>0</td><td>0</td><td>&quot;24160&quot;</td><td>211.3375</td><td>&quot;B5&quot;</td><td>&quot;S&quot;</td><td>&quot;2&quot;</td><td>null</td><td>&quot;St Louis, MO&quot;</td><td>1</td><td>0</td></tr><tr><td>1</td><td>&quot;Allison, Maste…</td><td>&quot;male&quot;</td><td>0.9167</td><td>1</td><td>2</td><td>&quot;113781&quot;</td><td>151.55</td><td>&quot;C22 C26&quot;</td><td>&quot;S&quot;</td><td>&quot;11&quot;</td><td>null</td><td>&quot;Montreal, PQ /…</td><td>1</td><td>1</td></tr><tr><td>1</td><td>&quot;Allison, Miss.…</td><td>&quot;female&quot;</td><td>2.0</td><td>1</td><td>2</td><td>&quot;113781&quot;</td><td>151.55</td><td>&quot;C22 C26&quot;</td><td>&quot;S&quot;</td><td>null</td><td>null</td><td>&quot;Montreal, PQ /…</td><td>0</td><td>2</td></tr><tr><td>1</td><td>&quot;Allison, Mr. H…</td><td>&quot;male&quot;</td><td>30.0</td><td>1</td><td>2</td><td>&quot;113781&quot;</td><td>151.55</td><td>&quot;C22 C26&quot;</td><td>&quot;S&quot;</td><td>null</td><td>135.0</td><td>&quot;Montreal, PQ /…</td><td>0</td><td>3</td></tr><tr><td>1</td><td>&quot;Allison, Mrs. …</td><td>&quot;female&quot;</td><td>25.0</td><td>1</td><td>2</td><td>&quot;113781&quot;</td><td>151.55</td><td>&quot;C22 C26&quot;</td><td>&quot;S&quot;</td><td>null</td><td>null</td><td>&quot;Montreal, PQ /…</td><td>0</td><td>4</td></tr><tr><td>&hellip;</td><td>&hellip;</td><td>&hellip;</td><td>&hellip;</td><td>&hellip;</td><td>&hellip;</td><td>&hellip;</td><td>&hellip;</td><td>&hellip;</td><td>&hellip;</td><td>&hellip;</td><td>&hellip;</td><td>&hellip;</td><td>&hellip;</td><td>&hellip;</td></tr><tr><td>3</td><td>&quot;Zabour, Miss. …</td><td>&quot;female&quot;</td><td>14.5</td><td>1</td><td>0</td><td>&quot;2665&quot;</td><td>14.4542</td><td>null</td><td>&quot;C&quot;</td><td>null</td><td>328.0</td><td>null</td><td>0</td><td>1304</td></tr><tr><td>3</td><td>&quot;Zabour, Miss. …</td><td>&quot;female&quot;</td><td>null</td><td>1</td><td>0</td><td>&quot;2665&quot;</td><td>14.4542</td><td>null</td><td>&quot;C&quot;</td><td>null</td><td>null</td><td>null</td><td>0</td><td>1305</td></tr><tr><td>3</td><td>&quot;Zakarian, Mr. …</td><td>&quot;male&quot;</td><td>26.5</td><td>0</td><td>0</td><td>&quot;2656&quot;</td><td>7.225</td><td>null</td><td>&quot;C&quot;</td><td>null</td><td>304.0</td><td>null</td><td>0</td><td>1306</td></tr><tr><td>3</td><td>&quot;Zakarian, Mr. …</td><td>&quot;male&quot;</td><td>27.0</td><td>0</td><td>0</td><td>&quot;2670&quot;</td><td>7.225</td><td>null</td><td>&quot;C&quot;</td><td>null</td><td>null</td><td>null</td><td>0</td><td>1307</td></tr><tr><td>3</td><td>&quot;Zimmerman, Mr.…</td><td>&quot;male&quot;</td><td>29.0</td><td>0</td><td>0</td><td>&quot;315082&quot;</td><td>7.875</td><td>null</td><td>&quot;S&quot;</td><td>null</td><td>null</td><td>null</td><td>0</td><td>1308</td></tr></tbody></table></div>"
      ],
      "text/plain": [
       "shape: (1_309, 15)\n",
       "┌────────┬──────────────────┬────────┬────────┬───┬───────┬─────────────────┬──────────┬───────────┐\n",
       "│ pclass ┆ name             ┆ sex    ┆ age    ┆ … ┆ body  ┆ home.dest       ┆ survived ┆ record_id │\n",
       "│ ---    ┆ ---              ┆ ---    ┆ ---    ┆   ┆ ---   ┆ ---             ┆ ---      ┆ ---       │\n",
       "│ i64    ┆ str              ┆ cat    ┆ f64    ┆   ┆ f64   ┆ str             ┆ i64      ┆ i64       │\n",
       "╞════════╪══════════════════╪════════╪════════╪═══╪═══════╪═════════════════╪══════════╪═══════════╡\n",
       "│ 1      ┆ Allen, Miss.     ┆ female ┆ 29.0   ┆ … ┆ null  ┆ St Louis, MO    ┆ 1        ┆ 0         │\n",
       "│        ┆ Elisabeth Walton ┆        ┆        ┆   ┆       ┆                 ┆          ┆           │\n",
       "│ 1      ┆ Allison, Master. ┆ male   ┆ 0.9167 ┆ … ┆ null  ┆ Montreal, PQ /  ┆ 1        ┆ 1         │\n",
       "│        ┆ Hudson Trevor    ┆        ┆        ┆   ┆       ┆ Chesterville,   ┆          ┆           │\n",
       "│        ┆                  ┆        ┆        ┆   ┆       ┆ ON              ┆          ┆           │\n",
       "│ 1      ┆ Allison, Miss.   ┆ female ┆ 2.0    ┆ … ┆ null  ┆ Montreal, PQ /  ┆ 0        ┆ 2         │\n",
       "│        ┆ Helen Loraine    ┆        ┆        ┆   ┆       ┆ Chesterville,   ┆          ┆           │\n",
       "│        ┆                  ┆        ┆        ┆   ┆       ┆ ON              ┆          ┆           │\n",
       "│ 1      ┆ Allison, Mr.     ┆ male   ┆ 30.0   ┆ … ┆ 135.0 ┆ Montreal, PQ /  ┆ 0        ┆ 3         │\n",
       "│        ┆ Hudson Joshua    ┆        ┆        ┆   ┆       ┆ Chesterville,   ┆          ┆           │\n",
       "│        ┆ Creig…           ┆        ┆        ┆   ┆       ┆ ON              ┆          ┆           │\n",
       "│ 1      ┆ Allison, Mrs.    ┆ female ┆ 25.0   ┆ … ┆ null  ┆ Montreal, PQ /  ┆ 0        ┆ 4         │\n",
       "│        ┆ Hudson J C       ┆        ┆        ┆   ┆       ┆ Chesterville,   ┆          ┆           │\n",
       "│        ┆ (Bessie…         ┆        ┆        ┆   ┆       ┆ ON              ┆          ┆           │\n",
       "│ …      ┆ …                ┆ …      ┆ …      ┆ … ┆ …     ┆ …               ┆ …        ┆ …         │\n",
       "│ 3      ┆ Zabour, Miss.    ┆ female ┆ 14.5   ┆ … ┆ 328.0 ┆ null            ┆ 0        ┆ 1304      │\n",
       "│        ┆ Hileni           ┆        ┆        ┆   ┆       ┆                 ┆          ┆           │\n",
       "│ 3      ┆ Zabour, Miss.    ┆ female ┆ null   ┆ … ┆ null  ┆ null            ┆ 0        ┆ 1305      │\n",
       "│        ┆ Thamine          ┆        ┆        ┆   ┆       ┆                 ┆          ┆           │\n",
       "│ 3      ┆ Zakarian, Mr.    ┆ male   ┆ 26.5   ┆ … ┆ 304.0 ┆ null            ┆ 0        ┆ 1306      │\n",
       "│        ┆ Mapriededer      ┆        ┆        ┆   ┆       ┆                 ┆          ┆           │\n",
       "│ 3      ┆ Zakarian, Mr.    ┆ male   ┆ 27.0   ┆ … ┆ null  ┆ null            ┆ 0        ┆ 1307      │\n",
       "│        ┆ Ortin            ┆        ┆        ┆   ┆       ┆                 ┆          ┆           │\n",
       "│ 3      ┆ Zimmerman, Mr.   ┆ male   ┆ 29.0   ┆ … ┆ null  ┆ null            ┆ 0        ┆ 1308      │\n",
       "│        ┆ Leo              ┆        ┆        ┆   ┆       ┆                 ┆          ┆           │\n",
       "└────────┴──────────────────┴────────┴────────┴───┴───────┴─────────────────┴──────────┴───────────┘"
      ]
     },
     "metadata": {},
     "output_type": "display_data"
    }
   ],
   "source": [
    "# Load data from https://www.openml.org/d/40945\n",
    "X, y = fetch_openml(\"titanic\", version=1, as_frame=True, return_X_y=True)\n",
    "df_titanic = pl.from_pandas(X).with_columns(\n",
    "    survived=y.values.astype(int),\n",
    "    record_id=np.arange(len(X)),\n",
    ")\n",
    "display(df_titanic)"
   ]
  },
  {
   "cell_type": "markdown",
   "id": "ab3fc064-1210-4e35-a539-dd226f9e69b1",
   "metadata": {},
   "source": [
    "## Preprocessing list\n",
    "Implement a DataHub class that performs these preprocessing tasks\n",
    "1. replace \"male\" with 1 and \"female\" with 0\n",
    "2. fill in missing values of age with the mean\n",
    "3. sum of sibsp and parch\n",
    "4. onehot encoding of embarked\n",
    "\n",
    "### replace \"male\" with 1 and \"female\" with 0\n",
    "\n",
    "```\n",
    "The argument \"titanic\" of a function with `@polars_table` equals \"titanic\" which is given as keyword arguments to MyDataHub.\n",
    "```"
   ]
  },
  {
   "cell_type": "code",
   "execution_count": 3,
   "id": "df5351d3-2352-4c32-b679-b8a3770e132d",
   "metadata": {},
   "outputs": [],
   "source": [
    "class MyDataHub(DataHub):\n",
    "\n",
    "    @polars_table(0, \"record_id\", join=\"left\")\n",
    "    def replace_sex(self, titanic):\n",
    "        \"\"\"\n",
    "        Parameters\n",
    "        -----\n",
    "        titanic: pl.DataFrame\n",
    "            Same as pl.DataFrame given as variable \"titanic\" at initialization of MyDataHub class.\n",
    "        \"\"\"\n",
    "        # replace \"male\" with 1 and \"female\" with 0\n",
    "        replace_sex = titanic.select(\n",
    "            \"record_id\",\n",
    "            \"sex\",\n",
    "            sex_replaced=pl.when(pl.col(\"sex\") == \"male\").then(1).otherwise(0),\n",
    "        )\n",
    "        return replace_sex"
   ]
  },
  {
   "cell_type": "code",
   "execution_count": 4,
   "id": "738ad019-7bd5-4950-8f4a-27969b80faff",
   "metadata": {},
   "outputs": [
    {
     "data": {
      "text/html": [
       "<div><style>\n",
       ".dataframe > thead > tr,\n",
       ".dataframe > tbody > tr {\n",
       "  text-align: right;\n",
       "  white-space: pre-wrap;\n",
       "}\n",
       "</style>\n",
       "<small>shape: (5, 4)</small><table border=\"1\" class=\"dataframe\"><thead><tr><th>record_id</th><th>survived</th><th>sex</th><th>sex_replaced</th></tr><tr><td>i64</td><td>i64</td><td>cat</td><td>i32</td></tr></thead><tbody><tr><td>0</td><td>1</td><td>&quot;female&quot;</td><td>0</td></tr><tr><td>1</td><td>1</td><td>&quot;male&quot;</td><td>1</td></tr><tr><td>2</td><td>0</td><td>&quot;female&quot;</td><td>0</td></tr><tr><td>3</td><td>0</td><td>&quot;male&quot;</td><td>1</td></tr><tr><td>4</td><td>0</td><td>&quot;female&quot;</td><td>0</td></tr></tbody></table></div>"
      ],
      "text/plain": [
       "shape: (5, 4)\n",
       "┌───────────┬──────────┬────────┬──────────────┐\n",
       "│ record_id ┆ survived ┆ sex    ┆ sex_replaced │\n",
       "│ ---       ┆ ---      ┆ ---    ┆ ---          │\n",
       "│ i64       ┆ i64      ┆ cat    ┆ i32          │\n",
       "╞═══════════╪══════════╪════════╪══════════════╡\n",
       "│ 0         ┆ 1        ┆ female ┆ 0            │\n",
       "│ 1         ┆ 1        ┆ male   ┆ 1            │\n",
       "│ 2         ┆ 0        ┆ female ┆ 0            │\n",
       "│ 3         ┆ 0        ┆ male   ┆ 1            │\n",
       "│ 4         ┆ 0        ┆ female ┆ 0            │\n",
       "└───────────┴──────────┴────────┴──────────────┘"
      ]
     },
     "metadata": {},
     "output_type": "display_data"
    },
    {
     "name": "stdout",
     "output_type": "stream",
     "text": [
      "Check replacing result\n"
     ]
    },
    {
     "data": {
      "text/html": [
       "<div><style>\n",
       ".dataframe > thead > tr,\n",
       ".dataframe > tbody > tr {\n",
       "  text-align: right;\n",
       "  white-space: pre-wrap;\n",
       "}\n",
       "</style>\n",
       "<small>shape: (2, 2)</small><table border=\"1\" class=\"dataframe\"><thead><tr><th>sex</th><th>sex_replaced</th></tr><tr><td>cat</td><td>i32</td></tr></thead><tbody><tr><td>&quot;female&quot;</td><td>0</td></tr><tr><td>&quot;male&quot;</td><td>1</td></tr></tbody></table></div>"
      ],
      "text/plain": [
       "shape: (2, 2)\n",
       "┌────────┬──────────────┐\n",
       "│ sex    ┆ sex_replaced │\n",
       "│ ---    ┆ ---          │\n",
       "│ cat    ┆ i32          │\n",
       "╞════════╪══════════════╡\n",
       "│ female ┆ 0            │\n",
       "│ male   ┆ 1            │\n",
       "└────────┴──────────────┘"
      ]
     },
     "metadata": {},
     "output_type": "display_data"
    }
   ],
   "source": [
    "my_datahub = MyDataHub(\n",
    "    root_df=df_titanic.select(\"record_id\", \"survived\"),\n",
    "    titanic=df_titanic,  # This dataframe is passed to replace_sex().\n",
    ")\n",
    "\n",
    "output = my_datahub()\n",
    "\n",
    "display(output.head())\n",
    "\n",
    "print(\"Check replacing result\")\n",
    "display(output.select(\"sex\", \"sex_replaced\").unique())"
   ]
  },
  {
   "cell_type": "markdown",
   "id": "cac827cf-6820-4cf5-b7a8-a9813dabd573",
   "metadata": {},
   "source": [
    "### fill in missing values of age with the mean"
   ]
  },
  {
   "cell_type": "code",
   "execution_count": 5,
   "id": "6de44b22-ded4-4dae-9a8f-8ba74e4b552a",
   "metadata": {},
   "outputs": [],
   "source": [
    "class MyDataHub(DataHub):\n",
    "\n",
    "    @polars_table(1, \"record_id\", join=\"left\")\n",
    "    def fill_age(self, titanic):\n",
    "        # calculate average\n",
    "        age_mean = titanic.select(\"age\").mean().to_numpy()[0][0]\n",
    "\n",
    "        # this print() is for debug\n",
    "        print(f\"Value to fill in missing values: {age_mean}\")\n",
    "\n",
    "        # fill in missing values of age with the mean\n",
    "        filled_age = titanic.select(\n",
    "            \"record_id\",\n",
    "            \"age\",\n",
    "            filled_age=pl.col(\"age\").fill_null(age_mean),\n",
    "        )\n",
    "        return filled_age\n"
   ]
  },
  {
   "cell_type": "code",
   "execution_count": 6,
   "id": "bad0bc28-ec0c-44de-97a9-f20319f5a641",
   "metadata": {},
   "outputs": [
    {
     "name": "stdout",
     "output_type": "stream",
     "text": [
      "Value to fill in missing values: 29.8811345124283\n"
     ]
    },
    {
     "data": {
      "text/html": [
       "<div><style>\n",
       ".dataframe > thead > tr,\n",
       ".dataframe > tbody > tr {\n",
       "  text-align: right;\n",
       "  white-space: pre-wrap;\n",
       "}\n",
       "</style>\n",
       "<small>shape: (5, 4)</small><table border=\"1\" class=\"dataframe\"><thead><tr><th>record_id</th><th>survived</th><th>age</th><th>filled_age</th></tr><tr><td>i64</td><td>i64</td><td>f64</td><td>f64</td></tr></thead><tbody><tr><td>0</td><td>1</td><td>29.0</td><td>29.0</td></tr><tr><td>1</td><td>1</td><td>0.9167</td><td>0.9167</td></tr><tr><td>2</td><td>0</td><td>2.0</td><td>2.0</td></tr><tr><td>3</td><td>0</td><td>30.0</td><td>30.0</td></tr><tr><td>4</td><td>0</td><td>25.0</td><td>25.0</td></tr></tbody></table></div>"
      ],
      "text/plain": [
       "shape: (5, 4)\n",
       "┌───────────┬──────────┬────────┬────────────┐\n",
       "│ record_id ┆ survived ┆ age    ┆ filled_age │\n",
       "│ ---       ┆ ---      ┆ ---    ┆ ---        │\n",
       "│ i64       ┆ i64      ┆ f64    ┆ f64        │\n",
       "╞═══════════╪══════════╪════════╪════════════╡\n",
       "│ 0         ┆ 1        ┆ 29.0   ┆ 29.0       │\n",
       "│ 1         ┆ 1        ┆ 0.9167 ┆ 0.9167     │\n",
       "│ 2         ┆ 0        ┆ 2.0    ┆ 2.0        │\n",
       "│ 3         ┆ 0        ┆ 30.0   ┆ 30.0       │\n",
       "│ 4         ┆ 0        ┆ 25.0   ┆ 25.0       │\n",
       "└───────────┴──────────┴────────┴────────────┘"
      ]
     },
     "metadata": {},
     "output_type": "display_data"
    },
    {
     "name": "stdout",
     "output_type": "stream",
     "text": [
      "Check filling result\n"
     ]
    },
    {
     "data": {
      "text/html": [
       "<div><style>\n",
       ".dataframe > thead > tr,\n",
       ".dataframe > tbody > tr {\n",
       "  text-align: right;\n",
       "  white-space: pre-wrap;\n",
       "}\n",
       "</style>\n",
       "<small>shape: (1, 1)</small><table border=\"1\" class=\"dataframe\"><thead><tr><th>filled_age</th></tr><tr><td>f64</td></tr></thead><tbody><tr><td>29.881135</td></tr></tbody></table></div>"
      ],
      "text/plain": [
       "shape: (1, 1)\n",
       "┌────────────┐\n",
       "│ filled_age │\n",
       "│ ---        │\n",
       "│ f64        │\n",
       "╞════════════╡\n",
       "│ 29.881135  │\n",
       "└────────────┘"
      ]
     },
     "metadata": {},
     "output_type": "display_data"
    }
   ],
   "source": [
    "my_datahub = MyDataHub(\n",
    "    root_df=df_titanic.select(\"record_id\", \"survived\"),\n",
    "    titanic=df_titanic,  # This dataframe is passed to fill_age().\n",
    ")\n",
    "\n",
    "output = my_datahub()\n",
    "\n",
    "display(output.head())\n",
    "\n",
    "print(\"Check filling result\")\n",
    "display(\n",
    "    output.filter(\n",
    "        pl.col(\"age\").is_null()\n",
    "    ).select(\"filled_age\").unique()\n",
    ")"
   ]
  },
  {
   "cell_type": "markdown",
   "id": "2891292d-a8e2-47f7-8524-d2d5238e20da",
   "metadata": {},
   "source": [
    "### sum of sibsp and parch"
   ]
  },
  {
   "cell_type": "code",
   "execution_count": 7,
   "id": "a7581061-36ea-4be8-9feb-b563d34a8afc",
   "metadata": {},
   "outputs": [],
   "source": [
    "class MyDataHub(DataHub):\n",
    "\n",
    "    @polars_table(2, \"record_id\", join=\"left\")\n",
    "    def cnt_family(self, titanic):\n",
    "        # sum of sibsp and parch\n",
    "        cnt_family = titanic.select(\n",
    "            \"record_id\",\n",
    "            \"sibsp\",\n",
    "            \"parch\",\n",
    "            cnt_family=pl.col(\"sibsp\") + pl.col(\"parch\"),\n",
    "        )\n",
    "        return cnt_family\n"
   ]
  },
  {
   "cell_type": "code",
   "execution_count": 8,
   "id": "b4f12378-cdcf-46a6-b3ad-ccdb209a6aa3",
   "metadata": {},
   "outputs": [
    {
     "data": {
      "text/html": [
       "<div><style>\n",
       ".dataframe > thead > tr,\n",
       ".dataframe > tbody > tr {\n",
       "  text-align: right;\n",
       "  white-space: pre-wrap;\n",
       "}\n",
       "</style>\n",
       "<small>shape: (5, 5)</small><table border=\"1\" class=\"dataframe\"><thead><tr><th>record_id</th><th>survived</th><th>sibsp</th><th>parch</th><th>cnt_family</th></tr><tr><td>i64</td><td>i64</td><td>i64</td><td>i64</td><td>i64</td></tr></thead><tbody><tr><td>0</td><td>1</td><td>0</td><td>0</td><td>0</td></tr><tr><td>1</td><td>1</td><td>1</td><td>2</td><td>3</td></tr><tr><td>2</td><td>0</td><td>1</td><td>2</td><td>3</td></tr><tr><td>3</td><td>0</td><td>1</td><td>2</td><td>3</td></tr><tr><td>4</td><td>0</td><td>1</td><td>2</td><td>3</td></tr></tbody></table></div>"
      ],
      "text/plain": [
       "shape: (5, 5)\n",
       "┌───────────┬──────────┬───────┬───────┬────────────┐\n",
       "│ record_id ┆ survived ┆ sibsp ┆ parch ┆ cnt_family │\n",
       "│ ---       ┆ ---      ┆ ---   ┆ ---   ┆ ---        │\n",
       "│ i64       ┆ i64      ┆ i64   ┆ i64   ┆ i64        │\n",
       "╞═══════════╪══════════╪═══════╪═══════╪════════════╡\n",
       "│ 0         ┆ 1        ┆ 0     ┆ 0     ┆ 0          │\n",
       "│ 1         ┆ 1        ┆ 1     ┆ 2     ┆ 3          │\n",
       "│ 2         ┆ 0        ┆ 1     ┆ 2     ┆ 3          │\n",
       "│ 3         ┆ 0        ┆ 1     ┆ 2     ┆ 3          │\n",
       "│ 4         ┆ 0        ┆ 1     ┆ 2     ┆ 3          │\n",
       "└───────────┴──────────┴───────┴───────┴────────────┘"
      ]
     },
     "metadata": {},
     "output_type": "display_data"
    },
    {
     "name": "stdout",
     "output_type": "stream",
     "text": [
      "Check cnt_family column\n"
     ]
    },
    {
     "data": {
      "text/plain": [
       "0"
      ]
     },
     "metadata": {},
     "output_type": "display_data"
    }
   ],
   "source": [
    "my_datahub = MyDataHub(\n",
    "    root_df=df_titanic.select(\"record_id\", \"survived\"),\n",
    "    titanic=df_titanic,  # This dataframe is passed to cnt_family().\n",
    ")\n",
    "\n",
    "output = my_datahub()\n",
    "\n",
    "display(output.head())\n",
    "\n",
    "print(\"Check cnt_family column\")\n",
    "display(\n",
    "    len(output.filter(\n",
    "        pl.col(\"cnt_family\") != (pl.col(\"sibsp\") + pl.col(\"parch\"))\n",
    "    ))\n",
    ")"
   ]
  },
  {
   "cell_type": "markdown",
   "id": "84bbd98b-1447-450e-9f9c-95adcb0a5df9",
   "metadata": {},
   "source": [
    "### onehot encoding of embarked\n"
   ]
  },
  {
   "cell_type": "code",
   "execution_count": 9,
   "id": "b76456a2-d8c4-4069-b409-2bcb1be21f87",
   "metadata": {},
   "outputs": [],
   "source": [
    "class MyDataHub(DataHub):\n",
    "\n",
    "    @polars_table(3, \"record_id\", join=\"left\")\n",
    "    def onehot_embarked(self, titanic):\n",
    "        # onehot encoding\n",
    "        onehot_embarked = titanic.select(\n",
    "            \"record_id\",\n",
    "            \"embarked\",\n",
    "            embarked_C=pl.when(pl.col(\"embarked\") == \"C\").then(1).otherwise(0),\n",
    "            embarked_Q=pl.when(pl.col(\"embarked\") == \"Q\").then(1).otherwise(0),\n",
    "            embarked_S=pl.when(pl.col(\"embarked\") == \"S\").then(1).otherwise(0),\n",
    "        )\n",
    "\n",
    "        return onehot_embarked\n"
   ]
  },
  {
   "cell_type": "code",
   "execution_count": 10,
   "id": "cedbc3e3-a97f-4107-801e-0855541230cf",
   "metadata": {},
   "outputs": [
    {
     "data": {
      "text/html": [
       "<div><style>\n",
       ".dataframe > thead > tr,\n",
       ".dataframe > tbody > tr {\n",
       "  text-align: right;\n",
       "  white-space: pre-wrap;\n",
       "}\n",
       "</style>\n",
       "<small>shape: (5, 6)</small><table border=\"1\" class=\"dataframe\"><thead><tr><th>record_id</th><th>survived</th><th>embarked</th><th>embarked_C</th><th>embarked_Q</th><th>embarked_S</th></tr><tr><td>i64</td><td>i64</td><td>cat</td><td>i32</td><td>i32</td><td>i32</td></tr></thead><tbody><tr><td>0</td><td>1</td><td>&quot;S&quot;</td><td>0</td><td>0</td><td>1</td></tr><tr><td>1</td><td>1</td><td>&quot;S&quot;</td><td>0</td><td>0</td><td>1</td></tr><tr><td>2</td><td>0</td><td>&quot;S&quot;</td><td>0</td><td>0</td><td>1</td></tr><tr><td>3</td><td>0</td><td>&quot;S&quot;</td><td>0</td><td>0</td><td>1</td></tr><tr><td>4</td><td>0</td><td>&quot;S&quot;</td><td>0</td><td>0</td><td>1</td></tr></tbody></table></div>"
      ],
      "text/plain": [
       "shape: (5, 6)\n",
       "┌───────────┬──────────┬──────────┬────────────┬────────────┬────────────┐\n",
       "│ record_id ┆ survived ┆ embarked ┆ embarked_C ┆ embarked_Q ┆ embarked_S │\n",
       "│ ---       ┆ ---      ┆ ---      ┆ ---        ┆ ---        ┆ ---        │\n",
       "│ i64       ┆ i64      ┆ cat      ┆ i32        ┆ i32        ┆ i32        │\n",
       "╞═══════════╪══════════╪══════════╪════════════╪════════════╪════════════╡\n",
       "│ 0         ┆ 1        ┆ S        ┆ 0          ┆ 0          ┆ 1          │\n",
       "│ 1         ┆ 1        ┆ S        ┆ 0          ┆ 0          ┆ 1          │\n",
       "│ 2         ┆ 0        ┆ S        ┆ 0          ┆ 0          ┆ 1          │\n",
       "│ 3         ┆ 0        ┆ S        ┆ 0          ┆ 0          ┆ 1          │\n",
       "│ 4         ┆ 0        ┆ S        ┆ 0          ┆ 0          ┆ 1          │\n",
       "└───────────┴──────────┴──────────┴────────────┴────────────┴────────────┘"
      ]
     },
     "metadata": {},
     "output_type": "display_data"
    },
    {
     "name": "stdout",
     "output_type": "stream",
     "text": [
      "Check encoding result\n"
     ]
    },
    {
     "data": {
      "text/html": [
       "<div><style>\n",
       ".dataframe > thead > tr,\n",
       ".dataframe > tbody > tr {\n",
       "  text-align: right;\n",
       "  white-space: pre-wrap;\n",
       "}\n",
       "</style>\n",
       "<small>shape: (4, 4)</small><table border=\"1\" class=\"dataframe\"><thead><tr><th>embarked</th><th>embarked_C</th><th>embarked_Q</th><th>embarked_S</th></tr><tr><td>cat</td><td>i32</td><td>i32</td><td>i32</td></tr></thead><tbody><tr><td>&quot;S&quot;</td><td>0</td><td>0</td><td>1</td></tr><tr><td>&quot;C&quot;</td><td>1</td><td>0</td><td>0</td></tr><tr><td>null</td><td>0</td><td>0</td><td>0</td></tr><tr><td>&quot;Q&quot;</td><td>0</td><td>1</td><td>0</td></tr></tbody></table></div>"
      ],
      "text/plain": [
       "shape: (4, 4)\n",
       "┌──────────┬────────────┬────────────┬────────────┐\n",
       "│ embarked ┆ embarked_C ┆ embarked_Q ┆ embarked_S │\n",
       "│ ---      ┆ ---        ┆ ---        ┆ ---        │\n",
       "│ cat      ┆ i32        ┆ i32        ┆ i32        │\n",
       "╞══════════╪════════════╪════════════╪════════════╡\n",
       "│ S        ┆ 0          ┆ 0          ┆ 1          │\n",
       "│ C        ┆ 1          ┆ 0          ┆ 0          │\n",
       "│ null     ┆ 0          ┆ 0          ┆ 0          │\n",
       "│ Q        ┆ 0          ┆ 1          ┆ 0          │\n",
       "└──────────┴────────────┴────────────┴────────────┘"
      ]
     },
     "metadata": {},
     "output_type": "display_data"
    }
   ],
   "source": [
    "my_datahub = MyDataHub(\n",
    "    root_df=df_titanic.select(\"record_id\", \"survived\"),\n",
    "    titanic=df_titanic,  # This dataframe is passed to onehot_embarked().\n",
    ")\n",
    "\n",
    "output = my_datahub()\n",
    "\n",
    "display(output.head())\n",
    "\n",
    "print(\"Check encoding result\")\n",
    "display(\n",
    "    output.select(\"embarked\", \"embarked_C\", \"embarked_Q\", \"embarked_S\").unique()\n",
    ")"
   ]
  },
  {
   "cell_type": "markdown",
   "id": "b4d02432-0941-4106-86da-2e7df548f157",
   "metadata": {},
   "source": [
    "## Completed DataHub Class"
   ]
  },
  {
   "cell_type": "code",
   "execution_count": 11,
   "id": "bc0832f6-3318-40e3-94fb-073cc8e94b42",
   "metadata": {},
   "outputs": [],
   "source": [
    "class MyDataHub(DataHub):\n",
    "\n",
    "    @polars_table(0, \"record_id\", join=\"left\")\n",
    "    def replace_sex(self, titanic):\n",
    "        # replace \"male\" with 1 and \"female\" with 0\n",
    "        replace_sex = titanic.select(\n",
    "            \"record_id\",\n",
    "            \"sex\",\n",
    "            sex_replaced=pl.when(pl.col(\"sex\") == \"male\").then(1).otherwise(0),\n",
    "        )\n",
    "        return replace_sex\n",
    "\n",
    "    @polars_table(1, \"record_id\", join=\"left\")\n",
    "    def fill_age(self, titanic):\n",
    "        # calculate average\n",
    "        age_mean = titanic.select(\"age\").mean().to_numpy()[0][0]\n",
    "\n",
    "        # fill in missing values of age with the mean\n",
    "        filled_age = titanic.select(\n",
    "            \"record_id\",\n",
    "            \"age\",\n",
    "            filled_age=pl.col(\"age\").fill_null(age_mean),\n",
    "        )\n",
    "        return filled_age\n",
    "\n",
    "    @polars_table(2, \"record_id\", join=\"left\")\n",
    "    def cnt_family(self, titanic):\n",
    "        # sum of sibsp and parch\n",
    "        cnt_family = titanic.select(\n",
    "            \"record_id\",\n",
    "            \"sibsp\",\n",
    "            \"parch\",\n",
    "            cnt_family=pl.col(\"sibsp\") + pl.col(\"parch\"),\n",
    "        )\n",
    "        return cnt_family\n",
    "\n",
    "    @polars_table(3, \"record_id\", join=\"left\")\n",
    "    def onehot_embarked(self, titanic):\n",
    "        # onehot encoding of embarked\n",
    "        onehot_embarked = titanic.select(\n",
    "            \"record_id\",\n",
    "            \"embarked\",\n",
    "            embarked_C=pl.when(pl.col(\"embarked\") == \"C\").then(1).otherwise(0),\n",
    "            embarked_Q=pl.when(pl.col(\"embarked\") == \"Q\").then(1).otherwise(0),\n",
    "            embarked_S=pl.when(pl.col(\"embarked\") == \"S\").then(1).otherwise(0),\n",
    "        )\n",
    "\n",
    "        return onehot_embarked\n"
   ]
  },
  {
   "cell_type": "code",
   "execution_count": 12,
   "id": "58070a8b-452f-46be-bd6a-733bf6660d2e",
   "metadata": {},
   "outputs": [
    {
     "data": {
      "text/html": [
       "<div><style>\n",
       ".dataframe > thead > tr,\n",
       ".dataframe > tbody > tr {\n",
       "  text-align: right;\n",
       "  white-space: pre-wrap;\n",
       "}\n",
       "</style>\n",
       "<small>shape: (5, 13)</small><table border=\"1\" class=\"dataframe\"><thead><tr><th>record_id</th><th>survived</th><th>sex</th><th>sex_replaced</th><th>age</th><th>filled_age</th><th>sibsp</th><th>parch</th><th>cnt_family</th><th>embarked</th><th>embarked_C</th><th>embarked_Q</th><th>embarked_S</th></tr><tr><td>i64</td><td>i64</td><td>cat</td><td>i32</td><td>f64</td><td>f64</td><td>i64</td><td>i64</td><td>i64</td><td>cat</td><td>i32</td><td>i32</td><td>i32</td></tr></thead><tbody><tr><td>0</td><td>1</td><td>&quot;female&quot;</td><td>0</td><td>29.0</td><td>29.0</td><td>0</td><td>0</td><td>0</td><td>&quot;S&quot;</td><td>0</td><td>0</td><td>1</td></tr><tr><td>1</td><td>1</td><td>&quot;male&quot;</td><td>1</td><td>0.9167</td><td>0.9167</td><td>1</td><td>2</td><td>3</td><td>&quot;S&quot;</td><td>0</td><td>0</td><td>1</td></tr><tr><td>2</td><td>0</td><td>&quot;female&quot;</td><td>0</td><td>2.0</td><td>2.0</td><td>1</td><td>2</td><td>3</td><td>&quot;S&quot;</td><td>0</td><td>0</td><td>1</td></tr><tr><td>3</td><td>0</td><td>&quot;male&quot;</td><td>1</td><td>30.0</td><td>30.0</td><td>1</td><td>2</td><td>3</td><td>&quot;S&quot;</td><td>0</td><td>0</td><td>1</td></tr><tr><td>4</td><td>0</td><td>&quot;female&quot;</td><td>0</td><td>25.0</td><td>25.0</td><td>1</td><td>2</td><td>3</td><td>&quot;S&quot;</td><td>0</td><td>0</td><td>1</td></tr></tbody></table></div>"
      ],
      "text/plain": [
       "shape: (5, 13)\n",
       "┌───────────┬──────────┬────────┬────────────┬───┬──────────┬────────────┬────────────┬────────────┐\n",
       "│ record_id ┆ survived ┆ sex    ┆ sex_replac ┆ … ┆ embarked ┆ embarked_C ┆ embarked_Q ┆ embarked_S │\n",
       "│ ---       ┆ ---      ┆ ---    ┆ ed         ┆   ┆ ---      ┆ ---        ┆ ---        ┆ ---        │\n",
       "│ i64       ┆ i64      ┆ cat    ┆ ---        ┆   ┆ cat      ┆ i32        ┆ i32        ┆ i32        │\n",
       "│           ┆          ┆        ┆ i32        ┆   ┆          ┆            ┆            ┆            │\n",
       "╞═══════════╪══════════╪════════╪════════════╪═══╪══════════╪════════════╪════════════╪════════════╡\n",
       "│ 0         ┆ 1        ┆ female ┆ 0          ┆ … ┆ S        ┆ 0          ┆ 0          ┆ 1          │\n",
       "│ 1         ┆ 1        ┆ male   ┆ 1          ┆ … ┆ S        ┆ 0          ┆ 0          ┆ 1          │\n",
       "│ 2         ┆ 0        ┆ female ┆ 0          ┆ … ┆ S        ┆ 0          ┆ 0          ┆ 1          │\n",
       "│ 3         ┆ 0        ┆ male   ┆ 1          ┆ … ┆ S        ┆ 0          ┆ 0          ┆ 1          │\n",
       "│ 4         ┆ 0        ┆ female ┆ 0          ┆ … ┆ S        ┆ 0          ┆ 0          ┆ 1          │\n",
       "└───────────┴──────────┴────────┴────────────┴───┴──────────┴────────────┴────────────┴────────────┘"
      ]
     },
     "metadata": {},
     "output_type": "display_data"
    }
   ],
   "source": [
    "my_datahub = MyDataHub(\n",
    "    root_df=df_titanic.select(\"record_id\", \"survived\"),\n",
    "    titanic=df_titanic,\n",
    ")\n",
    "\n",
    "output = my_datahub()\n",
    "\n",
    "display(output.head())\n"
   ]
  },
  {
   "cell_type": "code",
   "execution_count": null,
   "id": "85fd0548-a16f-454f-b918-0e9c358a36bf",
   "metadata": {},
   "outputs": [],
   "source": []
  }
 ],
 "metadata": {
  "kernelspec": {
   "display_name": "pytred",
   "language": "python",
   "name": "pytred"
  },
  "language_info": {
   "codemirror_mode": {
    "name": "ipython",
    "version": 3
   },
   "file_extension": ".py",
   "mimetype": "text/x-python",
   "name": "python",
   "nbconvert_exporter": "python",
   "pygments_lexer": "ipython3",
   "version": "3.11.6"
  }
 },
 "nbformat": 4,
 "nbformat_minor": 5
}
